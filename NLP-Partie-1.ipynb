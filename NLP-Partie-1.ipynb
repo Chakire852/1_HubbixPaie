{
 "cells": [
  {
   "cell_type": "code",
   "execution_count": 1,
   "metadata": {},
   "outputs": [],
   "source": [
    "import pandas as pd\n",
    "import numpy as np"
   ]
  },
  {
   "cell_type": "code",
   "execution_count": 2,
   "metadata": {},
   "outputs": [
    {
     "data": {
      "text/html": [
       "<div>\n",
       "<style scoped>\n",
       "    .dataframe tbody tr th:only-of-type {\n",
       "        vertical-align: middle;\n",
       "    }\n",
       "\n",
       "    .dataframe tbody tr th {\n",
       "        vertical-align: top;\n",
       "    }\n",
       "\n",
       "    .dataframe thead th {\n",
       "        text-align: right;\n",
       "    }\n",
       "</style>\n",
       "<table border=\"1\" class=\"dataframe\">\n",
       "  <thead>\n",
       "    <tr style=\"text-align: right;\">\n",
       "      <th></th>\n",
       "      <th>index</th>\n",
       "      <th>Name</th>\n",
       "      <th>Id</th>\n",
       "      <th>Cid</th>\n",
       "      <th>Text</th>\n",
       "    </tr>\n",
       "  </thead>\n",
       "  <tbody>\n",
       "    <tr>\n",
       "      <th>0</th>\n",
       "      <td>0</td>\n",
       "      <td>L1</td>\n",
       "      <td>LEGIARTI000018764571</td>\n",
       "      <td>LEGIARTI000017961623</td>\n",
       "      <td>Tout projet de réforme envisagé par le Gouvern...</td>\n",
       "    </tr>\n",
       "    <tr>\n",
       "      <th>1</th>\n",
       "      <td>1</td>\n",
       "      <td>L2</td>\n",
       "      <td>LEGIARTI000042654546</td>\n",
       "      <td>LEGIARTI000017961625</td>\n",
       "      <td>Le Gouvernement soumet les projets de textes l...</td>\n",
       "    </tr>\n",
       "    <tr>\n",
       "      <th>2</th>\n",
       "      <td>2</td>\n",
       "      <td>L3</td>\n",
       "      <td>LEGIARTI000042654542</td>\n",
       "      <td>LEGIARTI000017961627</td>\n",
       "      <td>Chaque année, les orientations de la politique...</td>\n",
       "    </tr>\n",
       "    <tr>\n",
       "      <th>3</th>\n",
       "      <td>3</td>\n",
       "      <td>L1111-1</td>\n",
       "      <td>LEGIARTI000006900781</td>\n",
       "      <td>LEGIARTI000006900781</td>\n",
       "      <td>Les dispositions du présent livre sont applica...</td>\n",
       "    </tr>\n",
       "    <tr>\n",
       "      <th>4</th>\n",
       "      <td>4</td>\n",
       "      <td>L1111-2</td>\n",
       "      <td>LEGIARTI000019353569</td>\n",
       "      <td>LEGIARTI000006900783</td>\n",
       "      <td>Pour la mise en oeuvre des dispositions du pré...</td>\n",
       "    </tr>\n",
       "  </tbody>\n",
       "</table>\n",
       "</div>"
      ],
      "text/plain": [
       "   index     Name                    Id                   Cid  \\\n",
       "0      0       L1  LEGIARTI000018764571  LEGIARTI000017961623   \n",
       "1      1       L2  LEGIARTI000042654546  LEGIARTI000017961625   \n",
       "2      2       L3  LEGIARTI000042654542  LEGIARTI000017961627   \n",
       "3      3  L1111-1  LEGIARTI000006900781  LEGIARTI000006900781   \n",
       "4      4  L1111-2  LEGIARTI000019353569  LEGIARTI000006900783   \n",
       "\n",
       "                                                Text  \n",
       "0  Tout projet de réforme envisagé par le Gouvern...  \n",
       "1  Le Gouvernement soumet les projets de textes l...  \n",
       "2  Chaque année, les orientations de la politique...  \n",
       "3  Les dispositions du présent livre sont applica...  \n",
       "4  Pour la mise en oeuvre des dispositions du pré...  "
      ]
     },
     "execution_count": 2,
     "metadata": {},
     "output_type": "execute_result"
    }
   ],
   "source": [
    "articles = pd.read_pickle('./Partie_1/backend/app/core/data/full_articles.pkl')\n",
    "articles.head()"
   ]
  },
  {
   "cell_type": "code",
   "execution_count": 3,
   "metadata": {},
   "outputs": [
    {
     "name": "stdout",
     "output_type": "stream",
     "text": [
      "20835\n"
     ]
    },
    {
     "data": {
      "text/html": [
       "<div>\n",
       "<style scoped>\n",
       "    .dataframe tbody tr th:only-of-type {\n",
       "        vertical-align: middle;\n",
       "    }\n",
       "\n",
       "    .dataframe tbody tr th {\n",
       "        vertical-align: top;\n",
       "    }\n",
       "\n",
       "    .dataframe thead th {\n",
       "        text-align: right;\n",
       "    }\n",
       "</style>\n",
       "<table border=\"1\" class=\"dataframe\">\n",
       "  <thead>\n",
       "    <tr style=\"text-align: right;\">\n",
       "      <th></th>\n",
       "      <th>Name</th>\n",
       "      <th>Id</th>\n",
       "      <th>Cid</th>\n",
       "      <th>Text</th>\n",
       "    </tr>\n",
       "  </thead>\n",
       "  <tbody>\n",
       "    <tr>\n",
       "      <th>0</th>\n",
       "      <td>L1</td>\n",
       "      <td>LEGIARTI000018764571</td>\n",
       "      <td>LEGIARTI000017961623</td>\n",
       "      <td>Tout projet de réforme envisagé par le Gouvern...</td>\n",
       "    </tr>\n",
       "    <tr>\n",
       "      <th>1</th>\n",
       "      <td>L2</td>\n",
       "      <td>LEGIARTI000042654546</td>\n",
       "      <td>LEGIARTI000017961625</td>\n",
       "      <td>Le Gouvernement soumet les projets de textes l...</td>\n",
       "    </tr>\n",
       "    <tr>\n",
       "      <th>2</th>\n",
       "      <td>L3</td>\n",
       "      <td>LEGIARTI000042654542</td>\n",
       "      <td>LEGIARTI000017961627</td>\n",
       "      <td>Chaque année, les orientations de la politique...</td>\n",
       "    </tr>\n",
       "    <tr>\n",
       "      <th>3</th>\n",
       "      <td>L1111-1</td>\n",
       "      <td>LEGIARTI000006900781</td>\n",
       "      <td>LEGIARTI000006900781</td>\n",
       "      <td>Les dispositions du présent livre sont applica...</td>\n",
       "    </tr>\n",
       "    <tr>\n",
       "      <th>4</th>\n",
       "      <td>L1111-2</td>\n",
       "      <td>LEGIARTI000019353569</td>\n",
       "      <td>LEGIARTI000006900783</td>\n",
       "      <td>Pour la mise en oeuvre des dispositions du pré...</td>\n",
       "    </tr>\n",
       "  </tbody>\n",
       "</table>\n",
       "</div>"
      ],
      "text/plain": [
       "      Name                    Id                   Cid  \\\n",
       "0       L1  LEGIARTI000018764571  LEGIARTI000017961623   \n",
       "1       L2  LEGIARTI000042654546  LEGIARTI000017961625   \n",
       "2       L3  LEGIARTI000042654542  LEGIARTI000017961627   \n",
       "3  L1111-1  LEGIARTI000006900781  LEGIARTI000006900781   \n",
       "4  L1111-2  LEGIARTI000019353569  LEGIARTI000006900783   \n",
       "\n",
       "                                                Text  \n",
       "0  Tout projet de réforme envisagé par le Gouvern...  \n",
       "1  Le Gouvernement soumet les projets de textes l...  \n",
       "2  Chaque année, les orientations de la politique...  \n",
       "3  Les dispositions du présent livre sont applica...  \n",
       "4  Pour la mise en oeuvre des dispositions du pré...  "
      ]
     },
     "execution_count": 3,
     "metadata": {},
     "output_type": "execute_result"
    }
   ],
   "source": [
    "articles = articles.drop(columns=['index'])\n",
    "print(len(articles))\n",
    "articles.head()"
   ]
  },
  {
   "cell_type": "code",
   "execution_count": 4,
   "metadata": {},
   "outputs": [
    {
     "name": "stdout",
     "output_type": "stream",
     "text": [
      "20835\n"
     ]
    }
   ],
   "source": [
    "articles = articles.dropna().drop_duplicates()\n",
    "print(len(articles))\n"
   ]
  },
  {
   "cell_type": "code",
   "execution_count": 90,
   "metadata": {},
   "outputs": [
    {
     "name": "stderr",
     "output_type": "stream",
     "text": [
      "[nltk_data] Downloading package punkt to\n",
      "[nltk_data]     C:\\Users\\danielalexander.muro\\AppData\\Roaming\\nltk_dat\n",
      "[nltk_data]     a...\n",
      "[nltk_data]   Unzipping tokenizers\\punkt.zip.\n"
     ]
    },
    {
     "data": {
      "text/plain": [
       "True"
      ]
     },
     "execution_count": 90,
     "metadata": {},
     "output_type": "execute_result"
    }
   ],
   "source": [
    "import re\n",
    "import nltk\n",
    "import string\n",
    "import gensim.downloader as api\n",
    "\n",
    "from nltk import word_tokenize\n",
    "from sklearn.cluster import MiniBatchKMeans\n",
    "from sklearn.metrics import silhouette_samples, silhouette_score\n",
    "\n",
    "nltk.download('punkt')"
   ]
  },
  {
   "cell_type": "code",
   "execution_count": 72,
   "metadata": {},
   "outputs": [],
   "source": [
    "wv = api.load('word2vec-google-news-300')"
   ]
  },
  {
   "cell_type": "code",
   "execution_count": 24,
   "metadata": {},
   "outputs": [
    {
     "data": {
      "text/plain": [
       "300"
      ]
     },
     "execution_count": 24,
     "metadata": {},
     "output_type": "execute_result"
    }
   ],
   "source": [
    "wv.vector_size"
   ]
  },
  {
   "cell_type": "markdown",
   "metadata": {},
   "source": [
    "### Clean and Tokenize Data"
   ]
  },
  {
   "cell_type": "code",
   "execution_count": 74,
   "metadata": {},
   "outputs": [],
   "source": [
    "def clean_text(text, tokenizer):\n",
    "    \"\"\"Pre-process text and generate tokens\n",
    "\n",
    "    Args:\n",
    "        text: Text to tokenize.\n",
    "\n",
    "    Returns:\n",
    "        Tokenized text.\n",
    "    \"\"\"\n",
    "    text = str(text).lower()  # Lowercase words\n",
    "    text = re.sub(r\"\\s+\", \" \", text)  # Remove multiple spaces in content\n",
    "    text = re.sub(r\"(?<=\\w)-(?=\\w)\", \" \", text)  # Replace dash between words\n",
    "    text = re.sub(\n",
    "        f\"[{re.escape(string.punctuation)}]\", \"\", text\n",
    "    )  # Remove punctuation\n",
    "\n",
    "    tokens = tokenizer(text, language='french')  # Get tokens from text\n",
    "    return tokens"
   ]
  },
  {
   "cell_type": "code",
   "execution_count": 144,
   "metadata": {},
   "outputs": [],
   "source": [
    "df = articles.copy()\n",
    "df['Text'] = df['Text'].astype(str)\n",
    "df['Tokens'] = df['Text'].map(lambda x: clean_text(x, word_tokenize))\n"
   ]
  },
  {
   "cell_type": "code",
   "execution_count": 127,
   "metadata": {},
   "outputs": [
    {
     "data": {
      "text/plain": [
       "20835"
      ]
     },
     "execution_count": 127,
     "metadata": {},
     "output_type": "execute_result"
    }
   ],
   "source": [
    "len(df['Tokens'])"
   ]
  },
  {
   "cell_type": "code",
   "execution_count": 145,
   "metadata": {},
   "outputs": [],
   "source": [
    "\n",
    "# _, idx = np.unique(df['Tokens'], return_index=True)\n",
    "# df = df.iloc[idx, :]\n",
    "\n",
    "# df = df.loc[df.Tokens.map(lambda x: len(x) > 0), ['Id', 'Text', 'Tokens']]\n",
    "\n",
    "df = df[['Text', 'Tokens']]\n"
   ]
  },
  {
   "cell_type": "code",
   "execution_count": 150,
   "metadata": {},
   "outputs": [
    {
     "name": "stdout",
     "output_type": "stream",
     "text": [
      "Original dataframe: (20835, 4)\n",
      "Pre-processed dataframe: (20835, 3)\n"
     ]
    }
   ],
   "source": [
    "all_texts = df['Text'].values\n",
    "tokenized_texts = df['Tokens'].values\n",
    "\n",
    "print(f\"Original dataframe: {articles.shape}\")\n",
    "print(f\"Pre-processed dataframe: {df.shape}\")"
   ]
  },
  {
   "cell_type": "markdown",
   "metadata": {},
   "source": [
    "### Create Document Vectors from Word Embedding"
   ]
  },
  {
   "cell_type": "markdown",
   "metadata": {},
   "source": [
    "This code will get all the word vectors of each document and average them to generate a vector per each document.\n",
    "\n",
    "1. Define the vectorize function that takes a list of documents and a gensim model as input, and generates a feature vector per document as output.\n",
    "2. Apply the function to the documents' tokens in tokenized_doc, using the Word2Vec model you trained earlier.\n",
    "3. Print the length of the list of documents and the size of the generated vectors.\n"
   ]
  },
  {
   "cell_type": "code",
   "execution_count": 25,
   "metadata": {},
   "outputs": [],
   "source": [
    "def vectorize(list_of_docs, model):\n",
    "    \"\"\"Generate vectors for list of documents using a Word Embedding\n",
    "\n",
    "    Args:\n",
    "        list_of_docs: List of documents\n",
    "        model: Gensim's Word Embedding\n",
    "\n",
    "    Returns:\n",
    "        List of document vectors\n",
    "    \"\"\"\n",
    "    features = []\n",
    "\n",
    "    for tokens in list_of_docs:\n",
    "        zero_vector = np.zeros(model.vector_size)\n",
    "        vectors = []\n",
    "        for token in tokens:\n",
    "            if token in model:\n",
    "                try:\n",
    "                    vectors.append(model[token])\n",
    "                except KeyError:\n",
    "                    continue\n",
    "        if vectors:\n",
    "            vectors = np.asarray(vectors)\n",
    "            avg_vec = vectors.mean(axis=0)\n",
    "            features.append(avg_vec)\n",
    "        else:\n",
    "            features.append(zero_vector)\n",
    "    return features"
   ]
  },
  {
   "cell_type": "code",
   "execution_count": 147,
   "metadata": {},
   "outputs": [
    {
     "data": {
      "text/plain": [
       "(20835, 300)"
      ]
     },
     "execution_count": 147,
     "metadata": {},
     "output_type": "execute_result"
    }
   ],
   "source": [
    "vectorized_texts = vectorize(tokenized_texts, model=wv)\n",
    "len(vectorized_texts), len(vectorized_texts[0])"
   ]
  },
  {
   "cell_type": "markdown",
   "metadata": {},
   "source": [
    "Next, cluster the documents using Mini-batches K-means. This K-means variant uses random input data samples to reduce the time required during training. The upside is that it shares the same objective function with the original algorithm.\n",
    "\n",
    "Mini Batch K-means has been proposed as an alternative to the K-means algorithm for clustering massive datasets. The advantage of this algorithm is to reduce the computational cost by not using all the dataset each iteration but a subsample of a fixed size.\n",
    "\n",
    "The number of clusters has an important impact in the difference between the partition obtained by k-means and mini batch k-means. This difference ranges from 2% of loss of quality for a small number of clusters (less than 10) to more than 8% for a larger number of clusters (more than 20). This difference also shows when comparing the partitions of both algorithms to the true partition. In fact, as the number of clusters increases, their respective difference to the true partition also increases. This means that it is not probable that applying the mini batch k-means algorithm to very large dataset with a large number of clusters will result in equivalent partitions to the ones from k-means."
   ]
  },
  {
   "cell_type": "code",
   "execution_count": 29,
   "metadata": {},
   "outputs": [],
   "source": [
    "def mbkmeans_clusters(\n",
    "\tX, \n",
    "    k, \n",
    "    mb, \n",
    "    print_silhouette_values, \n",
    "):\n",
    "    \"\"\"Generate clusters and print Silhouette metrics using MBKmeans\n",
    "\n",
    "    Args:\n",
    "        X: Matrix of features.\n",
    "        k: Number of clusters.\n",
    "        mb: Size of mini-batches.\n",
    "        print_silhouette_values: Print silhouette values per cluster.\n",
    "\n",
    "    Returns:\n",
    "        Trained clustering model and labels based on X.\n",
    "    \"\"\"\n",
    "    km = MiniBatchKMeans(n_clusters=k, batch_size=mb).fit(X)\n",
    "    print(f\"For n_clusters = {k}\")\n",
    "    print(f\"Silhouette coefficient: {silhouette_score(X, km.labels_):0.2f}\")\n",
    "    print(f\"Inertia:{km.inertia_}\")\n",
    "\n",
    "    if print_silhouette_values:\n",
    "        sample_silhouette_values = silhouette_samples(X, km.labels_)\n",
    "        print(f\"Silhouette values:\")\n",
    "        silhouette_values = []\n",
    "        for i in range(k):\n",
    "            cluster_silhouette_values = sample_silhouette_values[km.labels_ == i]\n",
    "            silhouette_values.append(\n",
    "                (\n",
    "                    i,\n",
    "                    cluster_silhouette_values.shape[0],\n",
    "                    cluster_silhouette_values.mean(),\n",
    "                    cluster_silhouette_values.min(),\n",
    "                    cluster_silhouette_values.max(),\n",
    "                )\n",
    "            )\n",
    "        silhouette_values = sorted(\n",
    "            silhouette_values, key=lambda tup: tup[2], reverse=True\n",
    "        )\n",
    "        for s in silhouette_values:\n",
    "            print(\n",
    "                f\"Cluster {s[0]}: Size:{s[1]} | Avg:{s[2]:.2f} | Min:{s[3]:.2f} | Max: {s[4]:.2f}\"\n",
    "            )\n",
    "    return km, km.labels_"
   ]
  },
  {
   "cell_type": "markdown",
   "metadata": {},
   "source": [
    "This function creates the clusters using the Mini-batches K-means algorithm. \n",
    "\n",
    "It takes the following arguments:\n",
    "\n",
    "X: Matrix of features. In this case, it's your vectorized documents.\n",
    "k: Number of clusters you'd like to create.\n",
    "mb: Size of mini-batches.\n",
    "print_silhouette_values: Defines if the Silhouette Coefficient is printed for each cluster. If you haven't heard about this coefficient, don't worry, you'll learn about it in a bit!\n",
    "mbkmeans_cluster takes these arguments and returns the fitted clustering model and the labels for each document."
   ]
  },
  {
   "cell_type": "code",
   "execution_count": 148,
   "metadata": {},
   "outputs": [
    {
     "name": "stdout",
     "output_type": "stream",
     "text": [
      "For n_clusters = 2\n",
      "Silhouette coefficient: 0.09\n",
      "Inertia:3885.1820036206045\n",
      "Silhouette values:\n",
      "    Cluster 0: Size:12520 | Avg:0.10 | Min:-0.00 | Max: 0.26\n",
      "    Cluster 1: Size:8315 | Avg:0.09 | Min:-0.01 | Max: 0.24\n"
     ]
    }
   ],
   "source": [
    "clustering, cluster_labels = mbkmeans_clusters(\n",
    "\tX = vectorized_texts,\n",
    "    k = 2,\n",
    "    mb = 500,\n",
    "    print_silhouette_values=True,\n",
    ")\n",
    "\n",
    "df_clusters = pd.DataFrame({\n",
    "    'Text': all_texts,\n",
    "    'Tokens': [\" \".join(text) for text in tokenized_texts],\n",
    "    'Cluster': cluster_labels\n",
    "})"
   ]
  },
  {
   "cell_type": "markdown",
   "metadata": {},
   "source": [
    "This code will fit the clustering model, print the Silhouette Coefficient per cluster, and return the fitted model and the labels per cluster. It'll also create a data frame which can be used to review the results.\n",
    "\n",
    "There are a few things to consider when setting the input arguments:\n",
    "\n",
    "* print_silhouette_values is straightforward. In this case, you set it to True to print the evaluation metric per cluster. This will help you review the results.\n",
    "* mb depends on the size of your dataset. It's mandatory to ensure that it is not too small to avoid a significant impact on the quality of results and not too big to avoid making the execution too slow. In this case, you set it to 500 observations.\n",
    "* k is trickier. In general, it involves a mix of qualitative analysis and quantitative metrics. After a few experiments on my side, I found that 50 seemed to work well. But that is more or less arbitrary.\n",
    "\n",
    "it's possible to use metrics like the Silhouette Coefficient for the quantitative evaluation of the number of clusters. This coefficient is an evaluation metric frequently used in problems where ground truth labels are unknown. It's calculated using the mean intra-cluster distance and the mean nearest-cluster distance and goes from -1 to 1. Well-defined clusters result in positive values of this coefficient, while incorrect clusters will result in negative values.\n",
    "\n",
    "The qualitative part generally requires you to have domain knowledge of the subject matter so you can sense-check your clustering algorithm's results."
   ]
  },
  {
   "cell_type": "markdown",
   "metadata": {},
   "source": [
    "For n_clusters = 2\n",
    "\n",
    "Silhouette coefficient: 0.09\n",
    "\n",
    "Inertia:3777.5293674021395\n",
    "\n",
    "Silhouette values:\n",
    "\n",
    "    Cluster 0: Size:11131 | Avg:0.09 | Min:-0.00 | Max: 0.25\n",
    "    Cluster 1: Size:9377 | Avg:0.09 | Min:-0.01 | Max: 0.24"
   ]
  },
  {
   "cell_type": "markdown",
   "metadata": {},
   "source": [
    "This is the output of the clustering algorithm. The sizes and Silhouette Coefficients per cluster are the most relevant metrics. The clusters are printed by the value of the Silhouette coefficient in descending order. A higher score means denser – and thus better – clusters."
   ]
  },
  {
   "cell_type": "code",
   "execution_count": 142,
   "metadata": {},
   "outputs": [
    {
     "data": {
      "text/html": [
       "<div>\n",
       "<style scoped>\n",
       "    .dataframe tbody tr th:only-of-type {\n",
       "        vertical-align: middle;\n",
       "    }\n",
       "\n",
       "    .dataframe tbody tr th {\n",
       "        vertical-align: top;\n",
       "    }\n",
       "\n",
       "    .dataframe thead th {\n",
       "        text-align: right;\n",
       "    }\n",
       "</style>\n",
       "<table border=\"1\" class=\"dataframe\">\n",
       "  <thead>\n",
       "    <tr style=\"text-align: right;\">\n",
       "      <th></th>\n",
       "      <th>Name</th>\n",
       "      <th>Id</th>\n",
       "      <th>Cid</th>\n",
       "      <th>Text</th>\n",
       "    </tr>\n",
       "  </thead>\n",
       "  <tbody>\n",
       "    <tr>\n",
       "      <th>0</th>\n",
       "      <td>L1</td>\n",
       "      <td>LEGIARTI000018764571</td>\n",
       "      <td>LEGIARTI000017961623</td>\n",
       "      <td>Tout projet de réforme envisagé par le Gouvern...</td>\n",
       "    </tr>\n",
       "    <tr>\n",
       "      <th>1</th>\n",
       "      <td>L2</td>\n",
       "      <td>LEGIARTI000042654546</td>\n",
       "      <td>LEGIARTI000017961625</td>\n",
       "      <td>Le Gouvernement soumet les projets de textes l...</td>\n",
       "    </tr>\n",
       "    <tr>\n",
       "      <th>2</th>\n",
       "      <td>L3</td>\n",
       "      <td>LEGIARTI000042654542</td>\n",
       "      <td>LEGIARTI000017961627</td>\n",
       "      <td>Chaque année, les orientations de la politique...</td>\n",
       "    </tr>\n",
       "    <tr>\n",
       "      <th>3</th>\n",
       "      <td>L1111-1</td>\n",
       "      <td>LEGIARTI000006900781</td>\n",
       "      <td>LEGIARTI000006900781</td>\n",
       "      <td>Les dispositions du présent livre sont applica...</td>\n",
       "    </tr>\n",
       "    <tr>\n",
       "      <th>4</th>\n",
       "      <td>L1111-2</td>\n",
       "      <td>LEGIARTI000019353569</td>\n",
       "      <td>LEGIARTI000006900783</td>\n",
       "      <td>Pour la mise en oeuvre des dispositions du pré...</td>\n",
       "    </tr>\n",
       "  </tbody>\n",
       "</table>\n",
       "</div>"
      ],
      "text/plain": [
       "      Name                    Id                   Cid  \\\n",
       "0       L1  LEGIARTI000018764571  LEGIARTI000017961623   \n",
       "1       L2  LEGIARTI000042654546  LEGIARTI000017961625   \n",
       "2       L3  LEGIARTI000042654542  LEGIARTI000017961627   \n",
       "3  L1111-1  LEGIARTI000006900781  LEGIARTI000006900781   \n",
       "4  L1111-2  LEGIARTI000019353569  LEGIARTI000006900783   \n",
       "\n",
       "                                                Text  \n",
       "0  Tout projet de réforme envisagé par le Gouvern...  \n",
       "1  Le Gouvernement soumet les projets de textes l...  \n",
       "2  Chaque année, les orientations de la politique...  \n",
       "3  Les dispositions du présent livre sont applica...  \n",
       "4  Pour la mise en oeuvre des dispositions du pré...  "
      ]
     },
     "execution_count": 142,
     "metadata": {},
     "output_type": "execute_result"
    }
   ],
   "source": [
    "articles.head()"
   ]
  },
  {
   "cell_type": "code",
   "execution_count": 149,
   "metadata": {},
   "outputs": [
    {
     "data": {
      "text/html": [
       "<div>\n",
       "<style scoped>\n",
       "    .dataframe tbody tr th:only-of-type {\n",
       "        vertical-align: middle;\n",
       "    }\n",
       "\n",
       "    .dataframe tbody tr th {\n",
       "        vertical-align: top;\n",
       "    }\n",
       "\n",
       "    .dataframe thead th {\n",
       "        text-align: right;\n",
       "    }\n",
       "</style>\n",
       "<table border=\"1\" class=\"dataframe\">\n",
       "  <thead>\n",
       "    <tr style=\"text-align: right;\">\n",
       "      <th></th>\n",
       "      <th>text</th>\n",
       "      <th>tokens</th>\n",
       "      <th>cluster</th>\n",
       "    </tr>\n",
       "  </thead>\n",
       "  <tbody>\n",
       "    <tr>\n",
       "      <th>0</th>\n",
       "      <td>Tout projet de réforme envisagé par le Gouvern...</td>\n",
       "      <td>tout projet de réforme envisagé par le gouvern...</td>\n",
       "      <td>0</td>\n",
       "    </tr>\n",
       "    <tr>\n",
       "      <th>1</th>\n",
       "      <td>Le Gouvernement soumet les projets de textes l...</td>\n",
       "      <td>le gouvernement soumet les projets de textes l...</td>\n",
       "      <td>0</td>\n",
       "    </tr>\n",
       "    <tr>\n",
       "      <th>2</th>\n",
       "      <td>Chaque année, les orientations de la politique...</td>\n",
       "      <td>chaque année les orientations de la politique ...</td>\n",
       "      <td>1</td>\n",
       "    </tr>\n",
       "    <tr>\n",
       "      <th>3</th>\n",
       "      <td>Les dispositions du présent livre sont applica...</td>\n",
       "      <td>les dispositions du présent livre sont applica...</td>\n",
       "      <td>1</td>\n",
       "    </tr>\n",
       "    <tr>\n",
       "      <th>4</th>\n",
       "      <td>Pour la mise en oeuvre des dispositions du pré...</td>\n",
       "      <td>pour la mise en oeuvre des dispositions du pré...</td>\n",
       "      <td>1</td>\n",
       "    </tr>\n",
       "  </tbody>\n",
       "</table>\n",
       "</div>"
      ],
      "text/plain": [
       "                                                text  \\\n",
       "0  Tout projet de réforme envisagé par le Gouvern...   \n",
       "1  Le Gouvernement soumet les projets de textes l...   \n",
       "2  Chaque année, les orientations de la politique...   \n",
       "3  Les dispositions du présent livre sont applica...   \n",
       "4  Pour la mise en oeuvre des dispositions du pré...   \n",
       "\n",
       "                                              tokens  cluster  \n",
       "0  tout projet de réforme envisagé par le gouvern...        0  \n",
       "1  le gouvernement soumet les projets de textes l...        0  \n",
       "2  chaque année les orientations de la politique ...        1  \n",
       "3  les dispositions du présent livre sont applica...        1  \n",
       "4  pour la mise en oeuvre des dispositions du pré...        1  "
      ]
     },
     "execution_count": 149,
     "metadata": {},
     "output_type": "execute_result"
    }
   ],
   "source": [
    "df_clusters.head()"
   ]
  },
  {
   "cell_type": "markdown",
   "metadata": {},
   "source": [
    "### Qualitative Review of Clusters"
   ]
  },
  {
   "cell_type": "markdown",
   "metadata": {},
   "source": [
    "There are a few ways to qualitatively analyze the results. During the earlier sections, the approach resulted in vector representations of tokens and documents, and vectors of the clusters' centroids. It's possible to find the most representative tokens and documents to analyze the results by looking for the vectors closest to the clusters' centroids."
   ]
  },
  {
   "cell_type": "code",
   "execution_count": 117,
   "metadata": {},
   "outputs": [
    {
     "name": "stdout",
     "output_type": "stream",
     "text": [
      "Des arrêtés du ministre chargé du travail ou du ministre chargé de l'agriculture déterminent les équipements de protection individuelle et catégories d'équipement de protection individuelle pour lesquels le chef d'établissement ou le travailleur indépendant doit procéder ou faire procéder à des vérifications générales périodiques afin que soit décelé en temps utile toute défectuosité susceptible d'être à l'origine de situations dangereuses ou tout défaut d'accessibilité contraire aux conditions déterminées conformément à l'article R. 233-42-1. Ces arrêtés précisent la périodicité des vérifications et, en tant que de besoin, leur nature et leur contenu. L'intervalle entre lesdites vérifications peut être réduit sur mise en demeure de l'inspecteur du travail ou du contrôleur du travail lorsque, en raison notamment des conditions de stockage ou d'environnement, du mode de fonctionnement ou de la conception de certains organes, les équipements de protection individuelle sont soumis à des contraintes susceptibles de nuire à leur fonction protectrice. Les vérifications sont effectuées par des personnes qualifiées, appartenant ou non à l'établissement, dont la liste est tenue à la disposition de l'inspecteur du travail ou du contrôleur du travail. Ces personnes doivent avoir la compétence nécessaire pour exercer leur mission en ce qui concerne les équipements de protection individuelle définis par les arrêtés prévus au premier alinéa ci-dessus et connaître les dispositions réglementaires afférentes. Le résultat des vérifications générales périodiques est consigné sur le registre de sécurité ouvert par le chef d'établissement conformément à l'article L. 620-6. Ce registre est tenu constamment à la disposition de l'inspecteur du travail ou du contrôleur du travail, des agents des services de prévention des organismes de sécurité sociale ainsi que de l'organisme professionnel d'hygiène, de sécurité et des conditions de travail créé en application du 4° de l'article L. 231-2, s'il y a lieu, et du comité d'hygiène, de sécurité et des conditions de travail de l'établissement ou, à défaut, des délégués du personnel. Lorsque les vérifications périodiques sont réalisées par des personnes n'appartenant pas à l'établissement, les rapports établis à la suite de ces vérifications doivent être annexés au registre de sécurité ; à défaut, les indications précises relatives à la date des vérifications, à la date de remise des rapports correspondants et à leur archivage dans l'établissement doivent être portées sur le registre de sécurité. Le registre de sécurité et les rapports peuvent être tenus et conservés sur tout support dans les conditions prévues par les articles L. 620-7 et D. 620-1. S'ils répondent aux critères de qualification et de compétence définis par l'alinéa 4 ci-dessus, les travailleurs indépendants peuvent procéder eux-mêmes à ces vérifications. Dans les cas visés à l'article 23 du décret n° 65-48 du 8 janvier 1965 modifié, les travailleurs indépendants consignent les résultats de ces vérifications, ainsi que le nom et la qualité de la personne qui les a effectuées, sur le registre prévu audit article.\n",
      "-------------\n",
      "La convention de branche conclue au niveau national contient obligatoirement, pour pouvoir être étendue, outre les clauses prévues aux articles L. 132-5, L. 132-7 et L. 132-17, des dispositions concernant : 1° L'exercice du droit syndical et la liberté d'opinion des salariés, le déroulement de carrière des salariés exerçant des responsabilités syndicales et l'exercice de leurs fonctions ; 2° Les délégués du personnel, le comité d'hygiène, de sécurité et des conditions de travail, les comités d'entreprise et le financement des activités sociales et culturelles gérées par lesdits comités ; 2° bis Les conditions d'exercice des mandats de négociation et de représentation au niveau de la branche ; 3° Les éléments essentiels servant à la détermination des classifications professionnelles et des niveaux de qualification, notamment les mentions relatives aux diplômes et aux titres professionnels délivrés au nom de l'Etat, à condition que ces diplômes et titres aient été créés depuis plus d'un an ; 4° Les éléments énumérés ci-dessous du salaire applicable par catégories professionnelles, ainsi que les procédures et la périodicité prévues pour sa révision : a) Le salaire minimum national professionnel du salarié sans qualification, b) Les coefficients hiérarchiques afférents aux diverses qualifications professionnelles, c) Les majorations pour travaux pénibles, physiquement ou nerveusement, dangereux, insalubres, d) Les modalités d'application du principe \"à travail égal, salaire égal\" et les procédures de règlement des difficultés pouvant naître à ce sujet, compte tenu notamment des situations révélées par l'application de l'article L. 132-12, deuxième alinéa ; 5° Les congés payés ; 6° Les conditions d'embauchage des salariés, sans que les dispositions prévues puissent porter atteinte au libre choix du syndicat par ceux-ci ; 7° Les conditions de la rupture des contrats de travail, notamment quant au délai-congé et à l'indemnité de licenciement ; 8° Les modalités d'organisation et de fonctionnement de l'apprentissage, de la formation professionnelle et de la formation permanente dans le cadre de la branche considérée, y compris des modalités particulières aux personnes handicapées ; 9° L'égalité professionnelle entre les femmes et les hommes et les mesures de rattrapage tendant à remédier aux inégalités constatées. Ces mesures s'appliquent notamment à l'accès à l'emploi, à la formation et à la promotion professionnelle et aux conditions de travail et d'emploi ; 9° bis La suppression des écarts de rémunération entre les femmes et les hommes prévue à l'article L. 132-12-3 ; 10° L'égalité de traitement entre salariés, quelle que soit leur appartenance à une ethnie, une nation ou une race, notamment en matière d'accès à l'emploi, de formation, de promotion professionnelle et de conditions de travail ; 11° Les conditions propres à concrétiser le droit au travail de toutes personnes handicapées en état d'exercer une profession, notamment par application de l'obligation d'emploi prévue à l'article L. 323-1, ainsi que par des mesures d'aménagement de postes ou d'horaires, d'organisation du travail et des actions de formation visant à remédier aux inégalités de fait affectant ces personnes ; 12° En tant que de besoin dans la branche : a) Les conditions particulières de travail des femmes enceintes ou allaitant et des jeunes, b) Les conditions d'emploi et de rémunération du personnel à temps partiel, c) Les conditions d'emploi et de rémunération des travailleurs à domicile, d) Les garanties des salariés appelés à exercer leur activité à l'étranger, e) Les conditions d'emploi des personnels, salariés d'entreprises extérieures, notamment les travailleurs temporaires, f) Les conditions dans lesquelles le ou les salariés, auteurs d'une invention dévolue à l'employeur en vertu des dispositions du deuxième alinéa de l'article L. 611-7 du code de la propriété intellectuelle, bénéficient d'une rémunération supplémentaire, g) Les garanties des salariés dont le contrat a été conclu en métropole pour exercer leur activité à partir d'un département métropolitain dans un département d'outre-mer, à Saint-Pierre-et-Miquelon, à Mayotte, en Nouvelle-Calédonie, en Polynésie française, à Wallis et Futuna ou dans les Terres australes et antarctiques françaises ; 13° Les procédures conventionnelles de conciliation suivant lesquelles seront réglés les conflits collectifs de travail susceptibles de survenir entre les employeurs et les salariés liés par la convention ; 14° Les modalités d'accès à un régime de prévoyance maladie ; 15° Les modalités de mise en oeuvre des dispositifs prévus au titre IV relatifs à l'intéressement des salariés, à la participation aux résultats et aux plans d'épargne d'entreprise, et notamment la possibilité d'affecter une partie des sommes collectées dans le cadre du plan prévu à l'article L. 443-1-2, s'il est mis en place, à l'acquisition de parts des fonds solidaires mentionnés au III de l'article L. 443-1-2 ; 16° Les modalités de prise en compte dans la branche ou l'entreprise des demandes relatives aux thèmes de négociation émanant d'une ou des organisations syndicales de salariés représentatives.\n",
      "-------------\n",
      "Un mois après chaque élection du comité d'entreprise, le chef d'entreprise lui communique une documentation économique et financière qui doit préciser : - la forme juridique de l'entreprise et son organisation ; - les perspectives économiques de l'entreprise telles qu'elles peuvent être envisagées ; - le cas échéant, la position de l'entreprise au sein du groupe, tel que celui-ci est défini à l'article L. 439-1 ; - compte tenu des informations dont dispose le chef d'entreprise, la répartition du capital entre les actionnaires détenant plus de 10 % du capital et la position de l'entreprise dans la branche d'activité à laquelle elle appartient. Au moins une fois par an, le chef d'entreprise présente au comité d'entreprise un rapport d'ensemble écrit sur l'activité de l'entreprise, le chiffre d'affaires, les bénéfices ou pertes constatés, les résultats globaux de la production en valeur et en volume, les transferts de capitaux importants entre la société mère et les filiales, la situation de la sous-traitance, l'affectation des bénéfices réalisés, les aides européennes et les aides ou avantages financiers notamment les aides à l'emploi, en particulier celles créées par l'article 3 de la loi n° 98-461 du 13 juin 1998 d'orientation et d'incitation relative à la réduction du temps de travail et l'article 19 de la loi n° 2000-37 du 19 janvier 2000 relative à la réduction négociée du temps de travail consentis à l'entreprise par l'Etat, les régions et les collectivités locales et leur emploi, les investissements, l'évolution de la structure et du montant des salaires. Dans les entreprises d'au moins trois cents salariés, ce rapport retrace en outre l'évolution de la productivité et le taux d'utilisation des capacités de production, quand ces éléments sont mesurables dans l'entreprise. Le chef d'entreprise soumet, à cette occasion, un état faisant ressortir l'évolution de la rémunération moyenne horaire et mensuelle par sexe, par catégories telles qu'elles sont prévues à la convention de travail applicable et par établissement, ainsi que les rémunérations minimales et maximales horaires et mensuelles, au cours de l'exercice et par rapport à l'exercice précédent. Ce rapport précise également les perspectives économiques de l'entreprise pour l'année à venir. Dans les sociétés commerciales, le chef d'entreprise est tenu de communiquer au comité, avant leur présentation à l'assemblée générale des actionnaires ou à l'assemblée des associés, l'ensemble des documents obligatoirement transmis annuellement à ces assemblées et le rapport des commissaires aux comptes. Le comité peut formuler toutes observations utiles sur la situation économique et sociale de l'entreprise ; ces observations sont obligatoirement transmises à l'assemblée des actionnaires ou des associés en même temps que le rapport du conseil d'administration, du directoire ou des gérants. Le comité peut convoquer les commissaires aux comptes pour recevoir leurs explications sur les différents postes des documents communiqués ainsi que sur la situation financière de l'entreprise. Les membres du comité d'entreprise ont droit aux mêmes communications et aux mêmes copies que les actionnaires et aux mêmes époques dans les conditions prévues par la loi n° 66-537 du 24 juillet 1966 (1). Le comité d'entreprise reçoit communication des documents comptables établis par les entreprises qui ne revêtent pas la forme de société commerciale. Dans les sociétés visées à l'article L. 232-2 du code de commerce, les documents établis en application de cet article et des articles L. 232-3 et L. 232-4 du même code sont communiqués au comité d'entreprise. Il en est de même dans les sociétés non visées à cet article qui établissent ces documents. Les informations données au comité d'entreprise en application du présent alinéa sont réputées confidentielles au sens de l'article L. 432-7. Les dispositions qui précèdent s'appliquent aux groupements d'intérêt économique mentionnés à l'article L. 251-13 du code de commerce. Le comité d'entreprise reçoit également communication du rapport visé aux articles L. 223-37 et L. 225-231 du code de commerce et des réponses, rapports et délibérations dans les cas prévus aux articles  L. 234-1, L. 234-2 et L. 251-15 du code de commerce. Au cours de chaque trimestre, le chef d'entreprise communique au comité d'entreprise des informations sur l'évolution générale des commandes et de la situation financière, sur l'exécution des programmes de production ainsi que sur d'éventuels retards dans le paiement par l'entreprise des cotisations de sécurité sociale ou des cotisations dues aux institutions de retraite complémentaire régies par le chapitre II du titre II du livre IX du code de la sécurité sociale et l'article 1050 du code rural (2) ou des cotisations ou primes dues aux organismes assureurs mentionnés à l'article premier de la loi n° 89-1009 du 31 décembre 1989 renforçant les garanties offertes aux personnes assurées contre certains risques au titre des garanties collectives mentionnées à l'article L. 911-2 du code de la sécurité sociale. Chaque trimestre dans les entreprises d'au moins trois cents salariés et chaque semestre dans les autres, le chef d'entreprise informe également le comité des mesures envisagées en ce qui concerne l'amélioration, le renouvellement ou la transformation de l'équipement ou des méthodes de production et d'exploitation et de leurs incidences sur les conditions de travail et d'emploi.\n",
      "-------------\n"
     ]
    }
   ],
   "source": [
    "test_cluster = 1\n",
    "most_representative_docs = np.argsort(\n",
    "    np.linalg.norm(vectorized_texts - clustering.cluster_centers_[test_cluster], axis=1)\n",
    ")\n",
    "for d in most_representative_docs[:3]:\n",
    "    print(all_texts[d])\n",
    "    print(\"-------------\")"
   ]
  }
 ],
 "metadata": {
  "kernelspec": {
   "display_name": "Python 3.10.7 64-bit",
   "language": "python",
   "name": "python3"
  },
  "language_info": {
   "codemirror_mode": {
    "name": "ipython",
    "version": 3
   },
   "file_extension": ".py",
   "mimetype": "text/x-python",
   "name": "python",
   "nbconvert_exporter": "python",
   "pygments_lexer": "ipython3",
   "version": "3.10.7"
  },
  "orig_nbformat": 4,
  "vscode": {
   "interpreter": {
    "hash": "fdda81cb716aa14090e90d97e970adafc1e603888c195c45c171371ba1b5f0f4"
   }
  }
 },
 "nbformat": 4,
 "nbformat_minor": 2
}
